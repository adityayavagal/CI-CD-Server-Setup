{
  "nbformat": 4,
  "nbformat_minor": 0,
  "metadata": {
    "colab": {
      "name": "Librosa-Experiments.ipynb",
      "version": "0.3.2",
      "provenance": [],
      "include_colab_link": true
    },
    "kernelspec": {
      "name": "python3",
      "display_name": "Python 3"
    }
  },
  "cells": [
    {
      "cell_type": "markdown",
      "metadata": {
        "id": "view-in-github",
        "colab_type": "text"
      },
      "source": [
        "<a href=\"https://colab.research.google.com/github/adityayavagal/CI-CD-Server-Setup/blob/master/Librosa_Experiments.ipynb\" target=\"_parent\"><img src=\"https://colab.research.google.com/assets/colab-badge.svg\" alt=\"Open In Colab\"/></a>"
      ]
    },
    {
      "cell_type": "markdown",
      "metadata": {
        "id": "uNXkYJ0FgFuI",
        "colab_type": "text"
      },
      "source": [
        "Install Librosa and PyGObject"
      ]
    },
    {
      "cell_type": "code",
      "metadata": {
        "id": "os7X3PqKbOgB",
        "colab_type": "code",
        "colab": {
          "base_uri": "https://localhost:8080/",
          "height": 204
        },
        "outputId": "f69809ef-9236-448f-a7e9-3afeda461b85"
      },
      "source": [
        "!pip install librosa"
      ],
      "execution_count": 2,
      "outputs": [
        {
          "output_type": "stream",
          "text": [
            "Requirement already satisfied: librosa in /usr/local/lib/python3.6/dist-packages (0.6.3)\n",
            "Requirement already satisfied: scikit-learn!=0.19.0,>=0.14.0 in /usr/local/lib/python3.6/dist-packages (from librosa) (0.21.3)\n",
            "Requirement already satisfied: resampy>=0.2.0 in /usr/local/lib/python3.6/dist-packages (from librosa) (0.2.1)\n",
            "Requirement already satisfied: decorator>=3.0.0 in /usr/local/lib/python3.6/dist-packages (from librosa) (4.4.0)\n",
            "Requirement already satisfied: numba>=0.38.0 in /usr/local/lib/python3.6/dist-packages (from librosa) (0.40.1)\n",
            "Requirement already satisfied: audioread>=2.0.0 in /usr/local/lib/python3.6/dist-packages (from librosa) (2.1.8)\n",
            "Requirement already satisfied: six>=1.3 in /usr/local/lib/python3.6/dist-packages (from librosa) (1.12.0)\n",
            "Requirement already satisfied: joblib>=0.12 in /usr/local/lib/python3.6/dist-packages (from librosa) (0.13.2)\n",
            "Requirement already satisfied: numpy>=1.8.0 in /usr/local/lib/python3.6/dist-packages (from librosa) (1.16.4)\n",
            "Requirement already satisfied: scipy>=1.0.0 in /usr/local/lib/python3.6/dist-packages (from librosa) (1.3.0)\n",
            "Requirement already satisfied: llvmlite>=0.25.0dev0 in /usr/local/lib/python3.6/dist-packages (from numba>=0.38.0->librosa) (0.29.0)\n"
          ],
          "name": "stdout"
        }
      ]
    },
    {
      "cell_type": "code",
      "metadata": {
        "id": "2fWQd94PdoeJ",
        "colab_type": "code",
        "colab": {
          "base_uri": "https://localhost:8080/",
          "height": 34
        },
        "outputId": "741a822d-9c6b-4bf2-d4b4-cf153a79838a"
      },
      "source": [
        "!pip install PyGObject"
      ],
      "execution_count": 3,
      "outputs": [
        {
          "output_type": "stream",
          "text": [
            "Requirement already satisfied: PyGObject in /usr/lib/python3/dist-packages (3.26.1)\n"
          ],
          "name": "stdout"
        }
      ]
    },
    {
      "cell_type": "markdown",
      "metadata": {
        "id": "vING2-NzgPAm",
        "colab_type": "text"
      },
      "source": [
        "Import Librosa and print the version"
      ]
    },
    {
      "cell_type": "code",
      "metadata": {
        "id": "SPn_0KtqdxjD",
        "colab_type": "code",
        "colab": {
          "base_uri": "https://localhost:8080/",
          "height": 34
        },
        "outputId": "712ed73f-d271-46f4-e2eb-a37627f6bbbe"
      },
      "source": [
        "import librosa\n",
        "print(librosa.__version__)"
      ],
      "execution_count": 4,
      "outputs": [
        {
          "output_type": "stream",
          "text": [
            "0.6.3\n"
          ],
          "name": "stdout"
        }
      ]
    },
    {
      "cell_type": "markdown",
      "metadata": {
        "id": "KJL9NW55gWOO",
        "colab_type": "text"
      },
      "source": [
        "Load a Example Audio File and Print Audio Buffer and Sampling Rate"
      ]
    },
    {
      "cell_type": "code",
      "metadata": {
        "id": "SA_9-udkeCsT",
        "colab_type": "code",
        "colab": {
          "base_uri": "https://localhost:8080/",
          "height": 34
        },
        "outputId": "13c2bda7-c9ab-4fda-9349-5847c645d773"
      },
      "source": [
        "y, sr = librosa.load(librosa.util.example_audio_file())\n",
        "print(len(y), sr)"
      ],
      "execution_count": 5,
      "outputs": [
        {
          "output_type": "stream",
          "text": [
            "1355168 22050\n"
          ],
          "name": "stdout"
        }
      ]
    },
    {
      "cell_type": "markdown",
      "metadata": {
        "id": "EXL9CDVygozk",
        "colab_type": "text"
      },
      "source": [
        "Load Signals at its native sampling rate"
      ]
    },
    {
      "cell_type": "code",
      "metadata": {
        "id": "QeTuFIOpetM7",
        "colab_type": "code",
        "colab": {
          "base_uri": "https://localhost:8080/",
          "height": 34
        },
        "outputId": "ba3fdf10-5aea-4ff1-a067-3d4e46883c4c"
      },
      "source": [
        "y_origin, sr_origin = librosa.load(librosa.util.example_audio_file(), sr=None)\n",
        "print(len(y_origin), sr_origin)"
      ],
      "execution_count": 8,
      "outputs": [
        {
          "output_type": "stream",
          "text": [
            "2710336 44100\n"
          ],
          "name": "stdout"
        }
      ]
    },
    {
      "cell_type": "markdown",
      "metadata": {
        "id": "xc4GWsTogyVm",
        "colab_type": "text"
      },
      "source": [
        "Resample the Audio"
      ]
    },
    {
      "cell_type": "code",
      "metadata": {
        "id": "ipGd-9RNfZIL",
        "colab_type": "code",
        "colab": {
          "base_uri": "https://localhost:8080/",
          "height": 34
        },
        "outputId": "c71cb2dd-345e-4173-e89d-4ea6bba05a54"
      },
      "source": [
        "sr =22050\n",
        "y = librosa.resample(y_origin, sr_origin, sr)\n",
        "print(len(y), sr)"
      ],
      "execution_count": 9,
      "outputs": [
        {
          "output_type": "stream",
          "text": [
            "1355168 22050\n"
          ],
          "name": "stdout"
        }
      ]
    },
    {
      "cell_type": "markdown",
      "metadata": {
        "id": "Rt_uVQvng4bO",
        "colab_type": "text"
      },
      "source": [
        "Print it in Seconds"
      ]
    },
    {
      "cell_type": "code",
      "metadata": {
        "id": "kOO97BbZfwL4",
        "colab_type": "code",
        "colab": {
          "base_uri": "https://localhost:8080/",
          "height": 34
        },
        "outputId": "c0afbd09-bdd6-4ca1-9d58-b0f5506abfa3"
      },
      "source": [
        "print(librosa.samples_to_time(len(y), sr))"
      ],
      "execution_count": 10,
      "outputs": [
        {
          "output_type": "stream",
          "text": [
            "61.45886621315193\n"
          ],
          "name": "stdout"
        }
      ]
    }
  ]
}